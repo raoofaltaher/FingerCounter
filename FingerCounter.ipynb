{
 "cells": [
  {
   "cell_type": "code",
   "execution_count": 29,
   "id": "971fd8c7-9c80-42ae-9ed5-3858783f3618",
   "metadata": {
    "tags": []
   },
   "outputs": [
    {
     "name": "stdout",
     "output_type": "stream",
     "text": [
      "6\n"
     ]
    }
   ],
   "source": [
    "import time\n",
    "import cv2\n",
    "import HandTrackingModule as htm\n",
    "import os\n",
    "\n",
    "\n",
    "\n",
    "wCam, hCam = 640, 480\n",
    "\n",
    "cap = cv2.VideoCapture(0)\n",
    "cap.set(3, wCam)\n",
    "cap.set(4, hCam)\n",
    "\n",
    "folderPath = 'hands'\n",
    "myList = os.listdir(folderPath)\n",
    "# print(myList)\n",
    "overlayList = []\n",
    "\n",
    "for imPath in myList:\n",
    "    image = cv2.imread(f'{folderPath}/{imPath}')\n",
    "    overlayList.append(image)\n",
    "    \n",
    "print(len(overlayList))\n",
    "pTime = 0\n",
    "\n",
    "detector = htm.handDetector(detectionCon=0.7)\n",
    "tipIds = [4, 8, 12, 16, 20]\n",
    "\n",
    "\n",
    "while True:\n",
    "    success, img = cap.read()\n",
    "    img = detector.findHands(img)\n",
    "    lmList = detector.findPosition(img, draw=False)\n",
    "    # print(lmList)\n",
    "    \n",
    "    if len(lmList) !=0:\n",
    "        fingers = []\n",
    "        \n",
    "           # thumb\n",
    "        if lmList[tipIds[0]][1] > lmList[tipIds[0] - 1][1]:\n",
    "            fingers.append(1)\n",
    "        else:\n",
    "            fingers.append(0)\n",
    "            \n",
    "            # 4 fingers\n",
    "        for id in range(1,5):\n",
    "            if lmList[tipIds[id]][2] < lmList[tipIds[id]-2][2]:\n",
    "                fingers.append(1)\n",
    "            else:\n",
    "                fingers.append(0)\n",
    "        # print(fingers)\n",
    "        \n",
    "        totalFingers = fingers.count(1)\n",
    "        # print(totalFingers)\n",
    "        \n",
    "        h,w,c = overlayList[totalFingers - 1].shape \n",
    "        img[0:h, 0:w] = overlayList[totalFingers - 1] \n",
    "        \n",
    "        # Display the totalFingers text only if a finger image is being displayed\n",
    "        \n",
    "        cv2.rectangle(img, (20, 225), (170, 425), (0,255,0), cv2.FILLED)\n",
    "        cv2.putText(img, str(totalFingers), (45,375), cv2.FONT_HERSHEY_PLAIN, 10, (255,0,0), 25)\n",
    "\n",
    "      \n",
    "    cTime = time.time()\n",
    "    fps = 1/(cTime-pTime)\n",
    "    pTime = cTime\n",
    "    cv2.putText(img, f'FPS: {int(fps)}', (490, 25), cv2.FONT_HERSHEY_PLAIN, 2, (255, 0 , 0), 2)\n",
    "    cv2.imshow(\"Image\", img)\n",
    "    \n",
    "    # Wait for 1 millisecond and check if 'q' is pressed\n",
    "    if cv2.waitKey(1) & 0xFF == ord('q'):\n",
    "        break\n",
    "cap.release()  # Release the camera resource\n",
    "cv2.destroyAllWindows()  # Close all OpenCV windows"
   ]
  },
  {
   "cell_type": "code",
   "execution_count": null,
   "id": "6f4b489f-071f-4619-b3eb-bd98b2a8e632",
   "metadata": {},
   "outputs": [],
   "source": []
  }
 ],
 "metadata": {
  "kernelspec": {
   "display_name": "AdvancedComputerVision",
   "language": "python",
   "name": "advancedcomputervision"
  },
  "language_info": {
   "codemirror_mode": {
    "name": "ipython",
    "version": 3
   },
   "file_extension": ".py",
   "mimetype": "text/x-python",
   "name": "python",
   "nbconvert_exporter": "python",
   "pygments_lexer": "ipython3",
   "version": "3.11.5"
  }
 },
 "nbformat": 4,
 "nbformat_minor": 5
}
